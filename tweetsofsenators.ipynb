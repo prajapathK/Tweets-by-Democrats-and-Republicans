{
 "cells": [
  {
   "cell_type": "markdown",
   "id": "c31cedb5-6cd8-462f-a81d-9be8e173cc1a",
   "metadata": {
    "tags": []
   },
   "source": [
    "**PROJECT 2**\n"
   ]
  },
  {
   "cell_type": "markdown",
   "id": "9f55ec65-fd25-4095-995b-5f801726ff8b",
   "metadata": {},
   "source": []
  },
  {
   "cell_type": "code",
   "execution_count": 4,
   "id": "ab898b07-0bd1-41f1-a36f-366c7294a21e",
   "metadata": {
    "tags": []
   },
   "outputs": [],
   "source": [
    "#In this I used the respective lists \n",
    "import csv\n",
    "#importing CSV for future use\n",
    "def getUserTweetStuff(userName,tweetFile, tweetStuff):\n",
    "    #creating empty lists and count to append things into.\n",
    "    rows = []\n",
    "    count=0\n",
    "    outTweet=[]\n",
    "    rowcount=0\n",
    "    user1mentions=[]\n",
    "    user1hash=[]\n",
    "    user1otherwords=[]\n",
    "    #opening file with read\n",
    "    file=open(tweetFile, 'r')\n",
    "    csvreader = csv.reader(file)\n",
    "    header = next(csvreader)\n",
    "    for row in csvreader:\n",
    "         rows.append(row)\n",
    "    for i in range(len(rows)):\n",
    "        #\n",
    "            #print(rows[j][0])\n",
    "            \n",
    "#HERE, I AM APPENDING THE RESPECTIVE DATA SETS(hastag,mentions,other words) TO THEIR\n",
    "#RESPECTIVE LISTS\n",
    "\n",
    "        if rows[i][0]==userName:\n",
    "            tweet=rows[i][1]\n",
    "            if tweetStuff==\"mentions\":\n",
    "                if \"@\" in tweet:\n",
    "                    user1mentions.append(tweet)\n",
    "            elif tweetStuff==\"hashtag\":\n",
    "                if \"#\" in tweet:\n",
    "                    user1hash.append(tweet)   \n",
    "            else:\n",
    "                user1otherwords.append(tweet)\n",
    "        else:\n",
    "            rowcount+=1\n",
    "    if rowcount==len(rows):\n",
    "        print(f'No tweets from {userName} found in {tweetFile}.')\n",
    "    else:\n",
    "        #discovered I could use 'or' in return to only get needed data \n",
    "        return( user1mentions or user1hash or user1otherwords)\n",
    "    return \n",
    "    \n",
    "\n",
    "    "
   ]
  },
  {
   "cell_type": "code",
   "execution_count": 5,
   "id": "3018d1b0-18d9-4496-8a41-a65734f57d02",
   "metadata": {
    "tags": []
   },
   "outputs": [
    {
     "ename": "FileNotFoundError",
     "evalue": "[Errno 2] No such file or directory: 'RepublicanTweets.csv'",
     "output_type": "error",
     "traceback": [
      "\u001b[0;31m---------------------------------------------------------------------------\u001b[0m",
      "\u001b[0;31mFileNotFoundError\u001b[0m                         Traceback (most recent call last)",
      "\u001b[0;32m<ipython-input-5-91c8a5d7323d>\u001b[0m in \u001b[0;36m<module>\u001b[0;34m\u001b[0m\n\u001b[1;32m      8\u001b[0m \u001b[0;31m#getUserTweetStuff(\"SenatorCarper\",\"DemocratTweets.csv\", \"mentions\")\u001b[0m\u001b[0;34m\u001b[0m\u001b[0;34m\u001b[0m\u001b[0;34m\u001b[0m\u001b[0m\n\u001b[1;32m      9\u001b[0m \u001b[0;34m\u001b[0m\u001b[0m\n\u001b[0;32m---> 10\u001b[0;31m \u001b[0mgetUserTweetStuff\u001b[0m\u001b[0;34m(\u001b[0m\u001b[0;34m\"lisamurkowski\"\u001b[0m\u001b[0;34m,\u001b[0m\u001b[0;34m\"RepublicanTweets.csv\"\u001b[0m\u001b[0;34m,\u001b[0m \u001b[0;34m\"hashtag\"\u001b[0m\u001b[0;34m)\u001b[0m\u001b[0;34m\u001b[0m\u001b[0;34m\u001b[0m\u001b[0m\n\u001b[0m\u001b[1;32m     11\u001b[0m \u001b[0;34m\u001b[0m\u001b[0m\n\u001b[1;32m     12\u001b[0m \u001b[0;31m#getUserTweetStuff(\"MikeCrapo\",\"RepublicanTweets.csv\", \"otherWords\")\u001b[0m\u001b[0;34m\u001b[0m\u001b[0;34m\u001b[0m\u001b[0;34m\u001b[0m\u001b[0m\n",
      "\u001b[0;32m<ipython-input-4-f89b3e5cbff6>\u001b[0m in \u001b[0;36mgetUserTweetStuff\u001b[0;34m(userName, tweetFile, tweetStuff)\u001b[0m\n\u001b[1;32m     12\u001b[0m     \u001b[0muser1otherwords\u001b[0m\u001b[0;34m=\u001b[0m\u001b[0;34m[\u001b[0m\u001b[0;34m]\u001b[0m\u001b[0;34m\u001b[0m\u001b[0;34m\u001b[0m\u001b[0m\n\u001b[1;32m     13\u001b[0m     \u001b[0;31m#opening file with read\u001b[0m\u001b[0;34m\u001b[0m\u001b[0;34m\u001b[0m\u001b[0;34m\u001b[0m\u001b[0m\n\u001b[0;32m---> 14\u001b[0;31m     \u001b[0mfile\u001b[0m\u001b[0;34m=\u001b[0m\u001b[0mopen\u001b[0m\u001b[0;34m(\u001b[0m\u001b[0mtweetFile\u001b[0m\u001b[0;34m,\u001b[0m \u001b[0;34m'r'\u001b[0m\u001b[0;34m)\u001b[0m\u001b[0;34m\u001b[0m\u001b[0;34m\u001b[0m\u001b[0m\n\u001b[0m\u001b[1;32m     15\u001b[0m     \u001b[0mcsvreader\u001b[0m \u001b[0;34m=\u001b[0m \u001b[0mcsv\u001b[0m\u001b[0;34m.\u001b[0m\u001b[0mreader\u001b[0m\u001b[0;34m(\u001b[0m\u001b[0mfile\u001b[0m\u001b[0;34m)\u001b[0m\u001b[0;34m\u001b[0m\u001b[0;34m\u001b[0m\u001b[0m\n\u001b[1;32m     16\u001b[0m     \u001b[0mheader\u001b[0m \u001b[0;34m=\u001b[0m \u001b[0mnext\u001b[0m\u001b[0;34m(\u001b[0m\u001b[0mcsvreader\u001b[0m\u001b[0;34m)\u001b[0m\u001b[0;34m\u001b[0m\u001b[0;34m\u001b[0m\u001b[0m\n",
      "\u001b[0;31mFileNotFoundError\u001b[0m: [Errno 2] No such file or directory: 'RepublicanTweets.csv'"
     ]
    }
   ],
   "source": [
    "#in this cell we explore the data we want by filling in with the information we need\n",
    "#getTweetStuff(\"Senator user name\",\"Democrat or republican csv\",\"What paramter for filtering\")\n",
    "\n",
    "\n",
    "\n",
    "#getUserTweetStuff(\"ChrisMurphyCT\",\"DemocratTweets.csv\", \"hashtag\")\n",
    "\n",
    "#getUserTweetStuff(\"SenatorCarper\",\"DemocratTweets.csv\", \"mentions\")\n",
    "\n",
    "getUserTweetStuff(\"lisamurkowski\",\"RepublicanTweets.csv\", \"hashtag\")\n",
    "\n",
    "#getUserTweetStuff(\"MikeCrapo\",\"RepublicanTweets.csv\", \"otherWords\")\n",
    "\n",
    "#getUserTweetStuff(\"SenatorRisch\",\"RepublicanTweets.csv\", \"hashtag\")\n",
    "\n"
   ]
  },
  {
   "cell_type": "code",
   "execution_count": 57,
   "id": "8e498ebf-cc35-450f-a8f7-9ddc2a24e26f",
   "metadata": {
    "tags": []
   },
   "outputs": [],
   "source": [
    "def findSubstringInTweets(userName,tweetFile, substring):\n",
    "    rows = []\n",
    "    count=0\n",
    "    outTweet=[]\n",
    "    rowcount=0\n",
    "\n",
    "    file=open(tweetFile, 'r')\n",
    "    csvreader = csv.reader(file)\n",
    "    header = next(csvreader)\n",
    "    for row in csvreader:\n",
    "        rows.append(row)\n",
    "    for i in range(len(rows)):\n",
    "        #print(rows[j][0])\n",
    "        if rows[i][0]==userName:\n",
    "            tweet=rows[i][1]\n",
    "            if substring in tweet:\n",
    "                count+=1\n",
    "            #a simple counter for the number of time the substring appears, \n",
    "            \n",
    "            #paired with the last statement to finally give the outcome of substring count\n",
    "    print(f'{substring} was found {count} times in tweets written by {userName}.')\n"
   ]
  },
  {
   "cell_type": "code",
   "execution_count": 100,
   "id": "9c7feb02-c100-4028-bbd3-43e2f181c9c2",
   "metadata": {},
   "outputs": [
    {
     "name": "stdout",
     "output_type": "stream",
     "text": [
      "Social was found 1 times in tweets written by ChrisMurphyCT.\n",
      "Abortion was found 0 times in tweets written by SenatorCarper.\n",
      "better was found 6 times in tweets written by SenatorDurbin.\n",
      "these was found 23 times in tweets written by SenBlumenthal.\n",
      "Abortion was found 0 times in tweets written by lisamurkowski.\n",
      "January 6th was found 0 times in tweets written by SeneatorRisch.\n"
     ]
    }
   ],
   "source": [
    "#random test words\n",
    "findSubstringInTweets(\"ChrisMurphyCT\",\"DemocratTweets.csv\", \"Social\")\n",
    "findSubstringInTweets(\"SenatorCarper\",\"DemocratTweets.csv\", \"Abortion\")\n",
    "findSubstringInTweets(\"SenatorDurbin\",\"DemocratTweets.csv\", \"better\")\n",
    "findSubstringInTweets(\"SenBlumenthal\",\"DemocratTweets.csv\", \"these\")\n",
    "findSubstringInTweets(\"lisamurkowski\",\"RepublicanTweets.csv\", \"Abortion\")\n",
    "findSubstringInTweets(\"SeneatorRisch\",\"RepublicanTweets.csv\", \"January 6th\")"
   ]
  },
  {
   "cell_type": "code",
   "execution_count": 66,
   "id": "23eb2d0e-edb9-4115-9536-cd1ed545e141",
   "metadata": {},
   "outputs": [
    {
     "name": "stdout",
     "output_type": "stream",
     "text": [
      "COVID was found 35 times in tweets written by ChrisMurphyCT.\n",
      "COVID was found 93 times in tweets written by SenatorCarper.\n",
      "COVID was found 149 times in tweets written by SenatorDurbin.\n",
      "COVID was found 73 times in tweets written by SenBlumenthal.\n",
      "COVID was found 124 times in tweets written by lisamurkowski.\n"
     ]
    }
   ],
   "source": [
    "#Senators chiming in about COVID-19\n",
    "findSubstringInTweets(\"ChrisMurphyCT\",\"DemocratTweets.csv\", \"COVID\")\n",
    "findSubstringInTweets(\"SenatorCarper\",\"DemocratTweets.csv\", \"COVID\")\n",
    "findSubstringInTweets(\"SenatorDurbin\",\"DemocratTweets.csv\", \"COVID\")\n",
    "findSubstringInTweets(\"SenBlumenthal\",\"DemocratTweets.csv\", \"COVID\")\n",
    "findSubstringInTweets(\"lisamurkowski\",\"RepublicanTweets.csv\", \"COVID\")"
   ]
  },
  {
   "cell_type": "code",
   "execution_count": 108,
   "id": "e2c30a9e-27ba-4a4c-ba5f-b2a5b57383cc",
   "metadata": {},
   "outputs": [
    {
     "name": "stdout",
     "output_type": "stream",
     "text": [
      "Republicans was found 30 times in tweets written by ChrisMurphyCT.\n",
      "Republicans was found 15 times in tweets written by SenatorCarper.\n",
      "Republicans was found 74 times in tweets written by SenatorDurbin.\n",
      "Republicans was found 17 times in tweets written by SenBlumenthal.\n",
      "Democrats was found 2 times in tweets written by lisamurkowski.\n",
      "Democrats was found 3 times in tweets written by SenatorRisch.\n"
     ]
    }
   ],
   "source": [
    "\n",
    "#tring to find if the other side talks about themself more or other party more \n",
    "findSubstringInTweets(\"ChrisMurphyCT\",\"DemocratTweets.csv\", \"Republicans\")\n",
    "findSubstringInTweets(\"SenatorCarper\",\"DemocratTweets.csv\", \"Republicans\")\n",
    "findSubstringInTweets(\"SenatorDurbin\",\"DemocratTweets.csv\", \"Republicans\")\n",
    "findSubstringInTweets(\"SenBlumenthal\",\"DemocratTweets.csv\", \"Republicans\")\n",
    "findSubstringInTweets(\"lisamurkowski\",\"RepublicanTweets.csv\", \"Democrats\")\n",
    "findSubstringInTweets(\"SenatorRisch\",\"RepublicanTweets.csv\", \"Democrats\")\n"
   ]
  },
  {
   "cell_type": "code",
   "execution_count": 88,
   "id": "14c98f35-1789-4b1c-9c17-2a1ac2c56240",
   "metadata": {},
   "outputs": [
    {
     "name": "stdout",
     "output_type": "stream",
     "text": [
      "Trump was found 90 times in tweets written by SenatorCarper.\n",
      "Trump was found 150 times in tweets written by SenatorDurbin.\n",
      "Trump was found 131 times in tweets written by SenBlumenthal.\n",
      "Trump was found 7 times in tweets written by lisamurkowski.\n",
      "Trump was found 21 times in tweets written by SenatorRisch.\n",
      "Trump was found 33 times in tweets written by SenPatRoberts.\n"
     ]
    }
   ],
   "source": [
    "#Tweets about trump\n",
    "findSubstringInTweets(\"SenatorCarper\",\"DemocratTweets.csv\", \"Trump\")\n",
    "findSubstringInTweets(\"SenatorDurbin\",\"DemocratTweets.csv\", \"Trump\")\n",
    "findSubstringInTweets(\"SenBlumenthal\",\"DemocratTweets.csv\", \"Trump\")\n",
    "findSubstringInTweets(\"lisamurkowski\",\"RepublicanTweets.csv\", \"Trump\")\n",
    "findSubstringInTweets(\"SenatorRisch\",\"RepublicanTweets.csv\", \"Trump\")\n",
    "findSubstringInTweets(\"SenPatRoberts\",\"RepublicanTweets.csv\", \"Trump\")"
   ]
  },
  {
   "cell_type": "code",
   "execution_count": 98,
   "id": "b6e4635c-9611-4082-8087-4889f35e5852",
   "metadata": {},
   "outputs": [
    {
     "name": "stdout",
     "output_type": "stream",
     "text": [
      "Biden was found 3 times in tweets written by SenatorCarper.\n",
      "Biden was found 0 times in tweets written by SenatorDurbin.\n",
      "Biden was found 0 times in tweets written by SenBlumenthal.\n",
      "Biden was found 0 times in tweets written by lisamurkowski.\n",
      "Biden was found 0 times in tweets written by SenatorRisch.\n",
      "Biden was found 0 times in tweets written by SenPatRoberts.\n"
     ]
    }
   ],
   "source": [
    "#tweets about Biden\n",
    "findSubstringInTweets(\"SenatorCarper\",\"DemocratTweets.csv\", \"Biden\")\n",
    "findSubstringInTweets(\"SenatorDurbin\",\"DemocratTweets.csv\", \"Biden\")\n",
    "findSubstringInTweets(\"SenBlumenthal\",\"DemocratTweets.csv\", \"Biden\")\n",
    "findSubstringInTweets(\"lisamurkowski\",\"RepublicanTweets.csv\", \"Biden\")\n",
    "findSubstringInTweets(\"SenatorRisch\",\"RepublicanTweets.csv\", \"Biden\")\n",
    "findSubstringInTweets(\"SenPatRoberts\",\"RepublicanTweets.csv\", \"Biden\")"
   ]
  },
  {
   "cell_type": "code",
   "execution_count": 101,
   "id": "0dc83db8-6a10-4e99-8677-60e89ae74ee5",
   "metadata": {},
   "outputs": [
    {
     "name": "stdout",
     "output_type": "stream",
     "text": [
      "Delaware was found 122 times in tweets written by SenatorCarper.\n",
      "Illinois was found 59 times in tweets written by SenatorDurbin.\n",
      "Connecticut was found 12 times in tweets written by SenBlumenthal.\n",
      "Alaska was found 299 times in tweets written by lisamurkowski.\n",
      "Idaho was found 350 times in tweets written by SenatorRisch.\n",
      "Kansas was found 137 times in tweets written by SenPatRoberts.\n"
     ]
    }
   ],
   "source": [
    "#senators refenrcing their own staes in their tweets\n",
    "findSubstringInTweets(\"SenatorCarper\",\"DemocratTweets.csv\", \"Delaware\")\n",
    "findSubstringInTweets(\"SenatorDurbin\",\"DemocratTweets.csv\", \"Illinois\")\n",
    "findSubstringInTweets(\"SenBlumenthal\",\"DemocratTweets.csv\", \"Connecticut\")\n",
    "findSubstringInTweets(\"lisamurkowski\",\"RepublicanTweets.csv\", \"Alaska\")\n",
    "findSubstringInTweets(\"SenatorRisch\",\"RepublicanTweets.csv\", \"Idaho\")\n",
    "findSubstringInTweets(\"SenPatRoberts\",\"RepublicanTweets.csv\", \"Kansas\")"
   ]
  },
  {
   "cell_type": "code",
   "execution_count": 105,
   "id": "54504947-3963-4a4d-9326-dfc0d402b9d8",
   "metadata": {},
   "outputs": [
    {
     "name": "stdout",
     "output_type": "stream",
     "text": [
      "Gun was found 0 times in tweets written by SenatorCarper.\n",
      "Gun was found 0 times in tweets written by SenatorDurbin.\n",
      "Gun was found 4 times in tweets written by SenBlumenthal.\n",
      "Gun was found 0 times in tweets written by lisamurkowski.\n",
      "Gun was found 0 times in tweets written by SenatorRisch.\n",
      "Gun was found 0 times in tweets written by SenPatRoberts.\n"
     ]
    }
   ],
   "source": [
    "findSubstringInTweets(\"SenatorCarper\",\"DemocratTweets.csv\", \"Gun\")\n",
    "findSubstringInTweets(\"SenatorDurbin\",\"DemocratTweets.csv\", \"Gun\")\n",
    "findSubstringInTweets(\"SenBlumenthal\",\"DemocratTweets.csv\", \"Gun\")\n",
    "findSubstringInTweets(\"lisamurkowski\",\"RepublicanTweets.csv\", \"Gun\")\n",
    "findSubstringInTweets(\"SenatorRisch\",\"RepublicanTweets.csv\", \"Gun\")\n",
    "findSubstringInTweets(\"SenPatRoberts\",\"RepublicanTweets.csv\", \"Gun\")"
   ]
  },
  {
   "cell_type": "code",
   "execution_count": 6,
   "id": "6d555904-1780-49be-a55a-70272d295e8b",
   "metadata": {},
   "outputs": [],
   "source": [
    "def getTweetPartisanDeets(tweetFile):\n",
    "    file=open(tweetFile,'r')\n",
    "    data=csv.reader(file)\n",
    "#opening file\n",
    "    rows=[]\n",
    "    countD=0\n",
    "    countR=0\n",
    "#emprty lists and count variables for extracting the total no.of tweets by a Party.\n",
    "    for row in data:\n",
    "        rows.append(row)\n",
    "#appending to a new list , so that Its more malleable\n",
    "    for i in range(len(rows)):\n",
    "        if rows[i][1]==\"D\":\n",
    "            countD+=1\n",
    "#BAsicallly telling the code to look at the coordinate of the political party, to then count more\n",
    "#for each 'D' or 'R' iterated.\n",
    "        if rows[i][1]==\"R\":\n",
    "            countR+=1\n",
    "#assiginin a new dictioanry where the values are the  number of dems or repubs in the given csv file\n",
    "    opendict={\n",
    "        \"Democrats\":countD,\n",
    "        \"Republicans\":countR\n",
    "    }\n",
    "    return opendict\n"
   ]
  },
  {
   "cell_type": "code",
   "execution_count": 7,
   "id": "9231825b-19bc-4772-961c-db43bae28506",
   "metadata": {},
   "outputs": [
    {
     "ename": "FileNotFoundError",
     "evalue": "[Errno 2] No such file or directory: 'TweetsD&R.csv'",
     "output_type": "error",
     "traceback": [
      "\u001b[0;31m---------------------------------------------------------------------------\u001b[0m",
      "\u001b[0;31mFileNotFoundError\u001b[0m                         Traceback (most recent call last)",
      "\u001b[0;32m<ipython-input-7-ff2fca1c4d2b>\u001b[0m in \u001b[0;36m<module>\u001b[0;34m\u001b[0m\n\u001b[0;32m----> 1\u001b[0;31m \u001b[0mgetTweetPartisanDeets\u001b[0m\u001b[0;34m(\u001b[0m\u001b[0;34m'TweetsD&R.csv'\u001b[0m\u001b[0;34m)\u001b[0m\u001b[0;34m\u001b[0m\u001b[0;34m\u001b[0m\u001b[0m\n\u001b[0m",
      "\u001b[0;32m<ipython-input-6-075471a4f617>\u001b[0m in \u001b[0;36mgetTweetPartisanDeets\u001b[0;34m(tweetFile)\u001b[0m\n\u001b[1;32m      1\u001b[0m \u001b[0;32mdef\u001b[0m \u001b[0mgetTweetPartisanDeets\u001b[0m\u001b[0;34m(\u001b[0m\u001b[0mtweetFile\u001b[0m\u001b[0;34m)\u001b[0m\u001b[0;34m:\u001b[0m\u001b[0;34m\u001b[0m\u001b[0;34m\u001b[0m\u001b[0m\n\u001b[0;32m----> 2\u001b[0;31m     \u001b[0mfile\u001b[0m\u001b[0;34m=\u001b[0m\u001b[0mopen\u001b[0m\u001b[0;34m(\u001b[0m\u001b[0mtweetFile\u001b[0m\u001b[0;34m,\u001b[0m\u001b[0;34m'r'\u001b[0m\u001b[0;34m)\u001b[0m\u001b[0;34m\u001b[0m\u001b[0;34m\u001b[0m\u001b[0m\n\u001b[0m\u001b[1;32m      3\u001b[0m     \u001b[0mdata\u001b[0m\u001b[0;34m=\u001b[0m\u001b[0mcsv\u001b[0m\u001b[0;34m.\u001b[0m\u001b[0mreader\u001b[0m\u001b[0;34m(\u001b[0m\u001b[0mfile\u001b[0m\u001b[0;34m)\u001b[0m\u001b[0;34m\u001b[0m\u001b[0;34m\u001b[0m\u001b[0m\n\u001b[1;32m      4\u001b[0m \u001b[0;31m#opening file\u001b[0m\u001b[0;34m\u001b[0m\u001b[0;34m\u001b[0m\u001b[0;34m\u001b[0m\u001b[0m\n\u001b[1;32m      5\u001b[0m     \u001b[0mrows\u001b[0m\u001b[0;34m=\u001b[0m\u001b[0;34m[\u001b[0m\u001b[0;34m]\u001b[0m\u001b[0;34m\u001b[0m\u001b[0;34m\u001b[0m\u001b[0m\n",
      "\u001b[0;31mFileNotFoundError\u001b[0m: [Errno 2] No such file or directory: 'TweetsD&R.csv'"
     ]
    }
   ],
   "source": [
    "getTweetPartisanDeets('TweetsD&R.csv')"
   ]
  },
  {
   "cell_type": "code",
   "execution_count": 8,
   "id": "3b599f0b-1ab4-49cd-bef4-d1cdac1da218",
   "metadata": {},
   "outputs": [],
   "source": [
    "import csv\n",
    "def getUserTweetDetails(tweetFile,twitterUsername):\n",
    "    file=open(tweetFile,'r')\n",
    "    data=csv.reader(file)\n",
    "#Making empty lists for all the multiple paramters to work with. Hashtags, mentions,rows, tweets. \n",
    "    tweets=[]\n",
    "    mentions=[]\n",
    "    hashtags=[]\n",
    "    for row in data:\n",
    "        if row[0]==twitterUsername:\n",
    "            tweets.append(row[2])\n",
    "#checking the 0th column for the given twitter username, then if it is there, appending it \n",
    "#into tweet\n",
    "    for tweet in tweets:\n",
    "        x=tweet.split()\n",
    "#Now seperating every word, to access individiual stringds more easily. \n",
    "\n",
    "        for i in x:\n",
    "            if i[0]==\"#\":\n",
    "                hashtags.append(i)\n",
    "#appending all the hashtags into a new list for hashtags\n",
    "            if i[0]==\"@\":\n",
    "                mentions.append(i)\n",
    "#Same thing but with \"@\"\n",
    "   \n",
    "#We follow a similar step as the last time as creating a new dictioanry where the key-value pairs are\n",
    "#the word (\"mentions\"/\"hashtags\" )-(all the mentions made by that username/ all the hashs)\n",
    "    dictator={\n",
    "        \"mentions\": mentions,\n",
    "        \"hashtags\":hashtags\n",
    "    }\n",
    "    return dictator\n"
   ]
  },
  {
   "cell_type": "code",
   "execution_count": 9,
   "id": "131469cf-85a6-4745-a2eb-cdf2b2fbcadc",
   "metadata": {},
   "outputs": [
    {
     "ename": "FileNotFoundError",
     "evalue": "[Errno 2] No such file or directory: 'TweetsD&R.csv'",
     "output_type": "error",
     "traceback": [
      "\u001b[0;31m---------------------------------------------------------------------------\u001b[0m",
      "\u001b[0;31mFileNotFoundError\u001b[0m                         Traceback (most recent call last)",
      "\u001b[0;32m<ipython-input-9-078774486f39>\u001b[0m in \u001b[0;36m<module>\u001b[0;34m\u001b[0m\n\u001b[0;32m----> 1\u001b[0;31m \u001b[0mgetUserTweetDetails\u001b[0m\u001b[0;34m(\u001b[0m\u001b[0;34m'TweetsD&R.csv'\u001b[0m\u001b[0;34m,\u001b[0m\u001b[0;34m'brianschatz'\u001b[0m\u001b[0;34m)\u001b[0m\u001b[0;34m\u001b[0m\u001b[0;34m\u001b[0m\u001b[0m\n\u001b[0m",
      "\u001b[0;32m<ipython-input-8-010bfb4d6346>\u001b[0m in \u001b[0;36mgetUserTweetDetails\u001b[0;34m(tweetFile, twitterUsername)\u001b[0m\n\u001b[1;32m      1\u001b[0m \u001b[0;32mimport\u001b[0m \u001b[0mcsv\u001b[0m\u001b[0;34m\u001b[0m\u001b[0;34m\u001b[0m\u001b[0m\n\u001b[1;32m      2\u001b[0m \u001b[0;32mdef\u001b[0m \u001b[0mgetUserTweetDetails\u001b[0m\u001b[0;34m(\u001b[0m\u001b[0mtweetFile\u001b[0m\u001b[0;34m,\u001b[0m\u001b[0mtwitterUsername\u001b[0m\u001b[0;34m)\u001b[0m\u001b[0;34m:\u001b[0m\u001b[0;34m\u001b[0m\u001b[0;34m\u001b[0m\u001b[0m\n\u001b[0;32m----> 3\u001b[0;31m     \u001b[0mfile\u001b[0m\u001b[0;34m=\u001b[0m\u001b[0mopen\u001b[0m\u001b[0;34m(\u001b[0m\u001b[0mtweetFile\u001b[0m\u001b[0;34m,\u001b[0m\u001b[0;34m'r'\u001b[0m\u001b[0;34m)\u001b[0m\u001b[0;34m\u001b[0m\u001b[0;34m\u001b[0m\u001b[0m\n\u001b[0m\u001b[1;32m      4\u001b[0m     \u001b[0mdata\u001b[0m\u001b[0;34m=\u001b[0m\u001b[0mcsv\u001b[0m\u001b[0;34m.\u001b[0m\u001b[0mreader\u001b[0m\u001b[0;34m(\u001b[0m\u001b[0mfile\u001b[0m\u001b[0;34m)\u001b[0m\u001b[0;34m\u001b[0m\u001b[0;34m\u001b[0m\u001b[0m\n\u001b[1;32m      5\u001b[0m \u001b[0;31m#Making empty lists for all the multiple paramters to work with. Hashtags, mentions,rows, tweets.\u001b[0m\u001b[0;34m\u001b[0m\u001b[0;34m\u001b[0m\u001b[0;34m\u001b[0m\u001b[0m\n",
      "\u001b[0;31mFileNotFoundError\u001b[0m: [Errno 2] No such file or directory: 'TweetsD&R.csv'"
     ]
    }
   ],
   "source": [
    "getUserTweetDetails('TweetsD&R.csv','brianschatz')"
   ]
  },
  {
   "cell_type": "code",
   "execution_count": 10,
   "id": "ae674e0a-ffc0-4aee-a8cb-a61b424341e6",
   "metadata": {},
   "outputs": [],
   "source": [
    "import csv\n",
    "def getPartyUserTwitterUsage(tweetFile): \n",
    "    file=open(tweetFile,'r')\n",
    "    data=csv.reader(file)\n",
    "    rows=[]\n",
    " \n",
    "\n",
    "    hashtags=[]\n",
    "    usernameR=[]\n",
    "    usernameD=[]\n",
    "#similar principle, but here we would need an empty dictioanry too. Not just empty lists.\n",
    "    dictsR={}\n",
    "    dictsD={}\n",
    "    for row in data:            \n",
    "        rows.append(row)\n",
    "        if row[1]==\"R\":\n",
    "            usernameR.append(row[0])\n",
    "        if row[1]==\"D\":\n",
    "            usernameD.append(row[0])\n",
    "#here Im appending all the R and D usernames into usernameD and usernameR lists    \n",
    "    for user in usernameR:\n",
    "        if user in  dictsR:\n",
    "            dictsR[user]+=1\n",
    "        else:\n",
    "            dictsR[user]=0\n",
    "#we check if a key exists with the name \"user\" if true we increment the value by 1, else we create a key\n",
    "#user setting its value to 0\n",
    "\n",
    "    for user in usernameD:\n",
    "        if user in  dictsD:\n",
    "            dictsD[user]+=1\n",
    "        else:\n",
    "            dictsD[user]=0\n",
    "#same thing for democrats, hence now we have distonaries witht eh total count of tweets from that person\n",
    "    Finale={\n",
    "        \"Republican\":dictsR,\n",
    "        \"Democrats\":dictsD\n",
    "    }\n",
    "#creating Dictionary where the keys are \"Republicans\" and \"Democrats\", with their values being \n",
    "#another dictionary with key value pairs of usernames and total count of their tweets.\n",
    "    return Finale"
   ]
  },
  {
   "cell_type": "code",
   "execution_count": 11,
   "id": "45879585-3b25-4677-a45f-055829176871",
   "metadata": {},
   "outputs": [
    {
     "ename": "FileNotFoundError",
     "evalue": "[Errno 2] No such file or directory: 'TweetsD&R.csv'",
     "output_type": "error",
     "traceback": [
      "\u001b[0;31m---------------------------------------------------------------------------\u001b[0m",
      "\u001b[0;31mFileNotFoundError\u001b[0m                         Traceback (most recent call last)",
      "\u001b[0;32m<ipython-input-11-08989f396db5>\u001b[0m in \u001b[0;36m<module>\u001b[0;34m\u001b[0m\n\u001b[0;32m----> 1\u001b[0;31m \u001b[0mgetPartyUserTwitterUsage\u001b[0m\u001b[0;34m(\u001b[0m\u001b[0;34m'TweetsD&R.csv'\u001b[0m\u001b[0;34m)\u001b[0m\u001b[0;34m\u001b[0m\u001b[0;34m\u001b[0m\u001b[0m\n\u001b[0m",
      "\u001b[0;32m<ipython-input-10-9581055eb3ba>\u001b[0m in \u001b[0;36mgetPartyUserTwitterUsage\u001b[0;34m(tweetFile)\u001b[0m\n\u001b[1;32m      1\u001b[0m \u001b[0;32mimport\u001b[0m \u001b[0mcsv\u001b[0m\u001b[0;34m\u001b[0m\u001b[0;34m\u001b[0m\u001b[0m\n\u001b[1;32m      2\u001b[0m \u001b[0;32mdef\u001b[0m \u001b[0mgetPartyUserTwitterUsage\u001b[0m\u001b[0;34m(\u001b[0m\u001b[0mtweetFile\u001b[0m\u001b[0;34m)\u001b[0m\u001b[0;34m:\u001b[0m\u001b[0;34m\u001b[0m\u001b[0;34m\u001b[0m\u001b[0m\n\u001b[0;32m----> 3\u001b[0;31m     \u001b[0mfile\u001b[0m\u001b[0;34m=\u001b[0m\u001b[0mopen\u001b[0m\u001b[0;34m(\u001b[0m\u001b[0mtweetFile\u001b[0m\u001b[0;34m,\u001b[0m\u001b[0;34m'r'\u001b[0m\u001b[0;34m)\u001b[0m\u001b[0;34m\u001b[0m\u001b[0;34m\u001b[0m\u001b[0m\n\u001b[0m\u001b[1;32m      4\u001b[0m     \u001b[0mdata\u001b[0m\u001b[0;34m=\u001b[0m\u001b[0mcsv\u001b[0m\u001b[0;34m.\u001b[0m\u001b[0mreader\u001b[0m\u001b[0;34m(\u001b[0m\u001b[0mfile\u001b[0m\u001b[0;34m)\u001b[0m\u001b[0;34m\u001b[0m\u001b[0;34m\u001b[0m\u001b[0m\n\u001b[1;32m      5\u001b[0m     \u001b[0mrows\u001b[0m\u001b[0;34m=\u001b[0m\u001b[0;34m[\u001b[0m\u001b[0;34m]\u001b[0m\u001b[0;34m\u001b[0m\u001b[0;34m\u001b[0m\u001b[0m\n",
      "\u001b[0;31mFileNotFoundError\u001b[0m: [Errno 2] No such file or directory: 'TweetsD&R.csv'"
     ]
    }
   ],
   "source": [
    "getPartyUserTwitterUsage('TweetsD&R.csv') "
   ]
  },
  {
   "cell_type": "code",
   "execution_count": null,
   "id": "a7940c5f-d740-48b7-9639-e874498236a1",
   "metadata": {},
   "outputs": [],
   "source": []
  }
 ],
 "metadata": {
  "kernelspec": {
   "display_name": "Python 3",
   "language": "python",
   "name": "python3"
  },
  "language_info": {
   "codemirror_mode": {
    "name": "ipython",
    "version": 3
   },
   "file_extension": ".py",
   "mimetype": "text/x-python",
   "name": "python",
   "nbconvert_exporter": "python",
   "pygments_lexer": "ipython3",
   "version": "3.8.8"
  }
 },
 "nbformat": 4,
 "nbformat_minor": 5
}
